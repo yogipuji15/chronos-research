{
 "cells": [
  {
   "cell_type": "code",
   "execution_count": 13,
   "metadata": {},
   "outputs": [
    {
     "name": "stdout",
     "output_type": "stream",
     "text": [
      "[array([ 0.50165494,  1.7897512 , -0.5940724 , ..., -0.43886152,\n",
      "        0.39709067, -0.57292336]), array([-1.58148946,  0.40143474,  0.21221903, ..., -0.18165908,\n",
      "        1.24679008, -0.83689237]), array([-0.65975602,  1.3715957 ,  0.15030615, ..., -1.01335784,\n",
      "       -0.29593055,  0.47608535]), array([ 0.91793419, -0.44559979,  0.93085933, ..., -0.37700094,\n",
      "       -0.46427626, -1.66937125]), array([-0.80485825,  1.8633274 , -0.06572231, ..., -0.73983522,\n",
      "       -0.90444912, -0.31907126]), array([ 1.48592183,  1.13282133, -2.42576376, ...,  0.80791638,\n",
      "        1.75514259, -0.5436871 ]), array([ 0.65676413, -0.70270695,  1.05428413, ..., -0.09151376,\n",
      "        0.46035718,  0.59671006]), array([-0.23259128,  0.76289045, -1.06860306, ...,  0.19952845,\n",
      "       -0.47303101, -1.41628235]), array([ 0.83863678, -0.09669562, -0.81030927, ..., -0.14206192,\n",
      "        0.58938698,  1.71047099]), array([0.64161921, 0.18479172, 0.82606914, ..., 0.35696378, 0.86301506,\n",
      "       1.31781263]), array([ 0.51684218, -0.287007  ,  0.42449978, ...,  1.72872609,\n",
      "       -0.76398241, -0.39426286]), array([ 0.17755609, -1.68915975,  0.20721198, ...,  1.12162173,\n",
      "       -1.3537976 , -1.25778465]), array([-0.33879894, -0.73158828, -0.95082465, ...,  0.36509385,\n",
      "        0.15348974,  0.75979286]), array([ 1.34990709,  0.2721617 , -0.45864939, ..., -0.68560102,\n",
      "        0.60727886, -0.11288047]), array([-0.49139907,  0.71160226, -0.75196285, ...,  1.13202207,\n",
      "       -0.49096301, -1.58054315]), array([ 0.73060026,  1.13848594, -0.67224848, ..., -1.53618033,\n",
      "       -1.47365061,  0.7762178 ]), array([-1.73343706,  0.02843625, -1.43095411, ..., -0.27519009,\n",
      "        1.23772292, -0.53683009]), array([ 1.63640121,  1.9690334 , -1.9943477 , ...,  0.03521602,\n",
      "       -0.22437942,  0.60026756]), array([ 0.18730144, -2.79029036,  1.02171055, ..., -0.21341588,\n",
      "        1.24172458,  0.75700078]), array([-0.28661147, -0.10355989,  0.10424483, ..., -0.29439304,\n",
      "       -0.82990744,  1.92315557])]\n"
     ]
    }
   ],
   "source": [
    "from pathlib import Path\n",
    "from typing import List, Union\n",
    "\n",
    "import numpy as np\n",
    "from gluonts.dataset.arrow import ArrowWriter\n",
    "\n",
    "\n",
    "def convert_to_arrow(\n",
    "    path: Union[str, Path],\n",
    "    time_series: Union[List[np.ndarray], np.ndarray],\n",
    "    compression: str = \"lz4\",\n",
    "):\n",
    "    \"\"\"\n",
    "    Store a given set of series into Arrow format at the specified path.\n",
    "\n",
    "    Input data can be either a list of 1D numpy arrays, or a single 2D\n",
    "    numpy array of shape (num_series, time_length).\n",
    "    \"\"\"\n",
    "    assert isinstance(time_series, list) or (\n",
    "        isinstance(time_series, np.ndarray) and\n",
    "        time_series.ndim == 2\n",
    "    )\n",
    "\n",
    "    # Set an arbitrary start time\n",
    "    start = np.datetime64(\"2000-01-01 00:00\", \"s\")\n",
    "\n",
    "    dataset = [\n",
    "        {\"start\": start, \"target\": ts} for ts in time_series\n",
    "    ]\n",
    "\n",
    "    ArrowWriter(compression=compression).write_to_file(\n",
    "        dataset,\n",
    "        path=path,\n",
    "    )\n",
    "\n",
    "\n",
    "if __name__ == \"__main__\":\n",
    "    # Generate 20 random time series of length 1024\n",
    "    time_series = [np.random.randn(1024) for i in range(20)]\n",
    "    print(time_series)\n",
    "\n",
    "    # Convert to GluonTS arrow format\n",
    "    convert_to_arrow(\"./noise-data.arrow\", time_series=time_series)"
   ]
  },
  {
   "cell_type": "code",
   "execution_count": 16,
   "metadata": {},
   "outputs": [
    {
     "name": "stdout",
     "output_type": "stream",
     "text": [
      "[[ 432]\n",
      " [ 432]\n",
      " [ 432]\n",
      " ...\n",
      " [2050]\n",
      " [1965]\n",
      " [1985]]\n"
     ]
    }
   ],
   "source": [
    "import pandas as pd\n",
    "import numpy as np\n",
    "from pathlib import Path\n",
    "from typing import Union\n",
    "from gluonts.dataset.arrow import ArrowWriter\n",
    "\n",
    "def convert_to_arrow(path: Union[str, Path], csv_path: str, compression: str = \"lz4\"):\n",
    "    data = pd.read_csv(csv_path, parse_dates=['timestamp'])\n",
    "    time_series = data['close'].values.reshape(-1, 1)  # Reshape for a single time series\n",
    "    print(time_series)\n",
    "\n",
    "    # Set an arbitrary start time from your data\n",
    "    start = data['timestamp'].iloc[0]\n",
    "\n",
    "    dataset = [{\"start\": ts, \"target\": [close]} for ts, close in zip(data['timestamp'], data['close'])]\n",
    "\n",
    "    # dataset = [{\"start\": start, \"target\": ts.flatten()} for ts in time_series]\n",
    "\n",
    "    ArrowWriter(compression=compression).write_to_file(dataset, path=path)\n",
    "\n",
    "if __name__ == \"__main__\":\n",
    "    convert_to_arrow(\"./ANTM.arrow\", \"/home/yogi/chronos-research/dataset/LQ45-daily/ANTM.csv\")\n"
   ]
  },
  {
   "cell_type": "code",
   "execution_count": 17,
   "metadata": {},
   "outputs": [
    {
     "name": "stdout",
     "output_type": "stream",
     "text": [
      "        start                                             target\n",
      "0  2000-01-01  [0.5016549431674596, 1.7897512035232783, -0.59...\n",
      "1  2000-01-01  [-1.5814894608833907, 0.40143473982788325, 0.2...\n",
      "2  2000-01-01  [-0.6597560204814046, 1.3715957049221443, 0.15...\n",
      "3  2000-01-01  [0.917934185527543, -0.4455997878535175, 0.930...\n",
      "4  2000-01-01  [-0.8048582474194529, 1.8633273983583762, -0.0...\n",
      "5  2000-01-01  [1.4859218321583265, 1.1328213287603701, -2.42...\n",
      "6  2000-01-01  [0.6567641291936093, -0.7027069457053794, 1.05...\n",
      "7  2000-01-01  [-0.2325912849890312, 0.7628904538397839, -1.0...\n",
      "8  2000-01-01  [0.8386367845709006, -0.09669562021500169, -0....\n",
      "9  2000-01-01  [0.6416192056058148, 0.1847917158612974, 0.826...\n",
      "10 2000-01-01  [0.5168421843488489, -0.287007004555241, 0.424...\n",
      "11 2000-01-01  [0.17755608947758034, -1.6891597491197632, 0.2...\n",
      "12 2000-01-01  [-0.33879894384776715, -0.7315882804757746, -0...\n",
      "13 2000-01-01  [1.3499070902351704, 0.2721617004427162, -0.45...\n",
      "14 2000-01-01  [-0.4913990724236149, 0.7116022572658797, -0.7...\n",
      "15 2000-01-01  [0.7306002587361816, 1.1384859391100501, -0.67...\n",
      "16 2000-01-01  [-1.7334370643815866, 0.028436254961937475, -1...\n",
      "17 2000-01-01  [1.6364012143623283, 1.9690333951225147, -1.99...\n",
      "18 2000-01-01  [0.18730144324665488, -2.790290362361566, 1.02...\n",
      "19 2000-01-01  [-0.2866114676261152, -0.10355989277987022, 0....\n",
      "          start  target\n",
      "0    2001-04-16   [432]\n",
      "1    2001-04-17   [432]\n",
      "2    2001-04-18   [432]\n",
      "3    2001-04-19   [432]\n",
      "4    2001-04-20   [432]\n",
      "...         ...     ...\n",
      "5665 2023-01-02  [1980]\n",
      "5666 2023-01-03  [2000]\n",
      "5667 2023-01-04  [2050]\n",
      "5668 2023-01-05  [1965]\n",
      "5669 2023-01-06  [1985]\n",
      "\n",
      "[5670 rows x 2 columns]\n"
     ]
    }
   ],
   "source": [
    "import pyarrow as pa\n",
    "\n",
    "def read_arrow_file(file_path):\n",
    "    with pa.OSFile(file_path, 'rb') as f:\n",
    "        reader = pa.ipc.open_file(f)\n",
    "        table = reader.read_all()\n",
    "    print(table.to_pandas())\n",
    "\n",
    "if __name__ == \"__main__\":\n",
    "    read_arrow_file(\"./noise-data.arrow\")\n",
    "    read_arrow_file(\"./ANTM.arrow\")\n"
   ]
  }
 ],
 "metadata": {
  "kernelspec": {
   "display_name": "chronos-zero-shot",
   "language": "python",
   "name": "python3"
  },
  "language_info": {
   "codemirror_mode": {
    "name": "ipython",
    "version": 3
   },
   "file_extension": ".py",
   "mimetype": "text/x-python",
   "name": "python",
   "nbconvert_exporter": "python",
   "pygments_lexer": "ipython3",
   "version": "3.12.4"
  }
 },
 "nbformat": 4,
 "nbformat_minor": 2
}
